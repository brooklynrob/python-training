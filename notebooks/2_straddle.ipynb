{
  "cells": [
    {
      "cell_type": "markdown",
      "metadata": {
        "id": "I3BKCNTaX-9g"
      },
      "source": [
        "# Example #1 - pricing a straddle"
      ]
    },
    {
      "cell_type": "markdown",
      "metadata": {
        "id": "oslK0g_CX-9h"
      },
      "source": [
        "Using some more complex (but still simple) operations, we can approximate the price of an ATMF straddle."
      ]
    },
    {
      "cell_type": "markdown",
      "metadata": {
        "id": "hOkFNcP_X-9h"
      },
      "source": [
        "$$ STRADDLE_{ATMF} \\approx \\frac{2}{\\sqrt{2\\pi}} F \\times \\sigma \\sqrt(T) $$\n",
        "$$ \\sigma = implied volatility $$\n",
        "$$ T = time-to-maturity $$\n",
        "$$ F = forward of the underlier $$"
      ]
    },
    {
      "cell_type": "markdown",
      "metadata": {
        "id": "7U71u_9BX-9h"
      },
      "source": [
        "Let's start with defining the straddle's implied volatility and time-to-maturity. Note, we will assume F is equal to 1 and the straddle price can be scaled accordingly."
      ]
    },
    {
      "cell_type": "code",
      "execution_count": 1,
      "metadata": {
        "id": "dcdP8EEWX-9h"
      },
      "outputs": [],
      "source": [
        "vol = 0.2\n",
        "time = 1."
      ]
    },
    {
      "cell_type": "code",
      "execution_count": 2,
      "metadata": {
        "id": "7LGxOSE3X-9i",
        "outputId": "fb955d23-7233-4f57-de95-87629ded3dbc",
        "colab": {
          "base_uri": "https://localhost:8080/"
        }
      },
      "outputs": [
        {
          "output_type": "execute_result",
          "data": {
            "text/plain": [
              "0.15961737689352445"
            ]
          },
          "metadata": {},
          "execution_count": 2
        }
      ],
      "source": [
        "2. * ( (1 / ( 2 * 3.14 ) ** 0.5 ) * vol * time ** 0.5 )"
      ]
    },
    {
      "cell_type": "markdown",
      "metadata": {
        "id": "gTkVHrDnX-9i"
      },
      "source": [
        "This is a lot to type again and again if you want to price several straddles, which is really annoying and error prone. Let's define a function for this so that we can use it over and over"
      ]
    },
    {
      "cell_type": "code",
      "execution_count": 3,
      "metadata": {
        "id": "TDmoh58bX-9i"
      },
      "outputs": [],
      "source": [
        "def straddlePricer( vol, time ):\n",
        "    return 2. * ( ( 1. / ( 2 * 3.14 ) ** 0.5 ) * vol * time ** 0.5 )"
      ]
    },
    {
      "cell_type": "markdown",
      "metadata": {
        "id": "__tcUHAwX-9i"
      },
      "source": [
        "Notice this doesn't immediately return anything to the output area. Rest assured the function is defined and we can begin using it. Below, we can compare the function's output to the output of the cell above."
      ]
    },
    {
      "cell_type": "code",
      "execution_count": 4,
      "metadata": {
        "id": "r1mm8Ei0X-9i",
        "outputId": "46e46b98-3576-4dc6-8aea-2bc19a9b2307",
        "colab": {
          "base_uri": "https://localhost:8080/"
        }
      },
      "outputs": [
        {
          "output_type": "stream",
          "name": "stdout",
          "text": [
            "0.15961737689352445\n",
            "0.15961737689352445\n",
            "True\n"
          ]
        }
      ],
      "source": [
        "print( straddlePricer( 0.2, 1.0 ) )\n",
        "print( 2. * ( ( 1. / ( 2 * 3.14 ) ** 0.5 ) * vol * time ** 0.5 ) )\n",
        "print( straddlePricer( 0.2, 1.0 ) == ( 2. * ( ( 1. / ( 2 * 3.14 ) ** 0.5 ) * vol * time ** 0.5 ) ) )"
      ]
    },
    {
      "cell_type": "markdown",
      "metadata": {
        "id": "S4X0b_aJX-9i"
      },
      "source": [
        "Input order doesn't matter as long as we let the function know what we're using as inputs"
      ]
    },
    {
      "cell_type": "code",
      "execution_count": null,
      "metadata": {
        "id": "LOwqmVGGX-9i"
      },
      "outputs": [],
      "source": [
        "print( straddlePricer( time=1.0, vol=0.2 ) )\n",
        "print( straddlePricer( vol=0.2, time=1.0 ) )"
      ]
    },
    {
      "cell_type": "markdown",
      "metadata": {
        "id": "fw1QK58LX-9i"
      },
      "source": [
        "This is nice, but what if I want to default to certain inputs? By setting the initial inputs below we're implictly calling each of these arguments \"optional\". Initially, we'll make only `time` and optional arguement (input).  "
      ]
    },
    {
      "cell_type": "code",
      "execution_count": null,
      "metadata": {
        "id": "jglDCQIUX-9i"
      },
      "outputs": [],
      "source": [
        "def straddlePricer( vol, time=1.0 ):\n",
        "    return 2. * ( ( 1 / ( 2 * 3.14 ) ** 0.5 ) * vol * time ** 0.5 )"
      ]
    },
    {
      "cell_type": "code",
      "execution_count": null,
      "metadata": {
        "id": "j-5PnHPqX-9i"
      },
      "outputs": [],
      "source": [
        "straddlePricer( 0.2 )"
      ]
    },
    {
      "cell_type": "markdown",
      "metadata": {
        "id": "pxyBaXeBX-9i"
      },
      "source": [
        "Now, we'll make both `vol` and `time` optional."
      ]
    },
    {
      "cell_type": "code",
      "execution_count": null,
      "metadata": {
        "id": "zjS9UsgtX-9i"
      },
      "outputs": [],
      "source": [
        "def straddlePricer( vol=0.2, time=1.0 ):\n",
        "    return 2. * ( ( 1 / ( 2 * 3.14 ) ** 0.5 ) * vol * time ** 0.5 )"
      ]
    },
    {
      "cell_type": "markdown",
      "metadata": {
        "id": "MqWK7TWsX-9i"
      },
      "source": [
        "In other words, we don't need to pass these arguments to call the function. It will use 0.2 for `vol` and 1.0 for `time` by default unless instructed otherwise."
      ]
    },
    {
      "cell_type": "code",
      "execution_count": null,
      "metadata": {
        "id": "SFz2ishrX-9i"
      },
      "outputs": [],
      "source": [
        "straddlePricer()"
      ]
    },
    {
      "cell_type": "code",
      "execution_count": null,
      "metadata": {
        "id": "tSIrXswvX-9i"
      },
      "outputs": [],
      "source": [
        "straddlePricer( 0.22 )"
      ]
    },
    {
      "cell_type": "markdown",
      "metadata": {
        "id": "9tC0XD2SX-9i"
      },
      "source": [
        "Notice, there's π in the denominator of the straddle price formula, but the value we used above (3.14) is an rough approximation. Is there a more precise value we could use? Yes, we can use a library called `numpy`. Let's import it first below."
      ]
    },
    {
      "cell_type": "code",
      "execution_count": null,
      "metadata": {
        "id": "NIYgABemX-9j"
      },
      "outputs": [],
      "source": [
        "import numpy"
      ]
    },
    {
      "cell_type": "markdown",
      "metadata": {
        "id": "dytdlgJtX-9j"
      },
      "source": [
        "You can access functions of numpy by entering `numpy.xxxxx`, where `xxxxx` is the function you would like to use. `numpy`'s implementation of `pi` is simply `numpy.pi`."
      ]
    },
    {
      "cell_type": "code",
      "execution_count": null,
      "metadata": {
        "id": "cMy8UBqAX-9j"
      },
      "outputs": [],
      "source": [
        "numpy.pi"
      ]
    },
    {
      "cell_type": "markdown",
      "metadata": {
        "id": "mounnfjwX-9j"
      },
      "source": [
        "Typing `numpy` over and over again can get pretty tedious. Let's make it easier for ourselves by abbreviating the name. Python convention for `numpy` abbreviation is `np`."
      ]
    },
    {
      "cell_type": "code",
      "execution_count": null,
      "metadata": {
        "id": "fXfyQWtzX-9j"
      },
      "outputs": [],
      "source": [
        "import numpy as np\n",
        "import pandas as pd\n",
        "import datetime as dt"
      ]
    },
    {
      "cell_type": "code",
      "execution_count": null,
      "metadata": {
        "id": "WYlosjs_X-9j"
      },
      "outputs": [],
      "source": [
        "np.pi"
      ]
    },
    {
      "cell_type": "markdown",
      "metadata": {
        "id": "EAfQMWr4X-9j"
      },
      "source": [
        "`numpy` also has a handy square root function (`np.sqrt`)"
      ]
    },
    {
      "cell_type": "code",
      "execution_count": null,
      "metadata": {
        "id": "T9NTxkSRX-9j"
      },
      "outputs": [],
      "source": [
        "np.sqrt( 4 )"
      ]
    },
    {
      "cell_type": "markdown",
      "metadata": {
        "id": "pyDoLu56X-9j"
      },
      "source": [
        "Let's incorporate `np.pi` and `np.sqrt` into our simple straddle pricer to make things a little more precise and easier to read."
      ]
    },
    {
      "cell_type": "code",
      "execution_count": null,
      "metadata": {
        "id": "ZQoCIh7vX-9j"
      },
      "outputs": [],
      "source": [
        "def straddlePricer( vol=0.2, time=1.0 ):\n",
        "    return 2. * ( ( 1 / np.sqrt( 2 * np.pi ) ) * vol * np.sqrt( time ) )\n",
        "\n",
        "straddlePricer()"
      ]
    },
    {
      "cell_type": "markdown",
      "metadata": {
        "id": "dvd5BRD_X-9j"
      },
      "source": [
        "Let's see what the difference is between our original implementation and our new and improved implemenation."
      ]
    },
    {
      "cell_type": "code",
      "execution_count": null,
      "metadata": {
        "id": "bXubF_uZX-9j"
      },
      "outputs": [],
      "source": [
        "straddlePricer() - ( 2. * ( ( 1 / ( 2 * 3.14 ) ** 0.5 ) * vol * time ** 0.5 ) )"
      ]
    },
    {
      "cell_type": "markdown",
      "metadata": {
        "id": "5ln1yH8qX-9j"
      },
      "source": [
        "In this case, the difference in precision and readability isn't huge, but that difference can be valuable at times. In addition to the functionality above, `numpy` can do a lot of other things. For instance, we can generate some random numbers."
      ]
    },
    {
      "cell_type": "code",
      "execution_count": null,
      "metadata": {
        "id": "mMFVlVQqX-9j"
      },
      "outputs": [],
      "source": [
        "np.random.rand()"
      ]
    },
    {
      "cell_type": "markdown",
      "metadata": {
        "id": "4HVn6Q8LX-9j"
      },
      "source": [
        "Is there a way to see what functions are available? Yes, just tab after `np.`"
      ]
    },
    {
      "cell_type": "code",
      "execution_count": null,
      "metadata": {
        "id": "tjmofOGwX-9j"
      },
      "outputs": [],
      "source": [
        "#np."
      ]
    },
    {
      "cell_type": "markdown",
      "metadata": {
        "id": "OAHEHqPOX-9j"
      },
      "source": [
        "Alternatively, we can call `dir` on `np` to see what is included."
      ]
    },
    {
      "cell_type": "code",
      "execution_count": null,
      "metadata": {
        "id": "Ujg8eK6UX-9j"
      },
      "outputs": [],
      "source": [
        "dir(np)"
      ]
    },
    {
      "cell_type": "markdown",
      "metadata": {
        "id": "Z9tE7iBqX-9q"
      },
      "source": [
        "Continuing with the prior example of pricing our straddle, we can also price the straddle using the Monte Carlo method. We need to generate a normally distributed set of random numbers to simulate the asset's movement through time."
      ]
    },
    {
      "cell_type": "code",
      "execution_count": null,
      "metadata": {
        "id": "fkIeOy1nX-9q"
      },
      "outputs": [],
      "source": [
        "def straddlePricerMC(vol=0.2, time=1.0, mcPaths=100):\n",
        "    dailyVol = vol / np.sqrt( 252. )\n",
        "    resultSum = 0\n",
        "    for p in range( mcPaths ):\n",
        "        resultSum += np.abs( np.prod( ( 1 + np.random.normal( 0, dailyVol, int( round( time * 252 ) ) ) ) ) - 1 )\n",
        "    return resultSum / mcPaths\n",
        "\n",
        "straddlePricerMC()"
      ]
    },
    {
      "cell_type": "markdown",
      "metadata": {
        "id": "pIaF0pUyX-9q"
      },
      "source": [
        "There's a lot of new things going on here. Let's unpack it one line at a time."
      ]
    },
    {
      "cell_type": "markdown",
      "metadata": {
        "id": "PtEmR94LX-9q"
      },
      "source": [
        "We know the variance scales linearly with time, so we can either\n",
        "\n",
        "1. divide the variance by time and take the square root to get a daily volatility, or\n",
        "2. take the square root of variance (volatility) and divide by the root of time\n",
        "    \n",
        "Generally, the latter is clearer and simpler to understand since we typically think in vol terms, but you are free to use whichever method you want."
      ]
    },
    {
      "cell_type": "code",
      "execution_count": null,
      "metadata": {
        "id": "JQUMAoY2X-9q"
      },
      "outputs": [],
      "source": [
        "# Option #1 above\n",
        "np.sqrt( vol ** 2 / 252 )"
      ]
    },
    {
      "cell_type": "code",
      "execution_count": null,
      "metadata": {
        "id": "IoM6e1_5X-9q"
      },
      "outputs": [],
      "source": [
        "# Comparing the two methods\n",
        "vol = 0.2\n",
        "var = vol ** 2\n",
        "sqrtVarOverTime = np.sqrt( var / 252 )\n",
        "volOverSqrtTime = vol / np.sqrt( 252 )\n",
        "valuesEqual = np.isclose( sqrtVarOverTime, volOverSqrtTime )\n",
        "print( f'sqrtVarOverTime = {sqrtVarOverTime}\\nvolOverSqrtTime = {volOverSqrtTime}\\nAre they close? {valuesEqual}' )"
      ]
    },
    {
      "cell_type": "markdown",
      "metadata": {
        "id": "xyi9OJ_0X-9q"
      },
      "source": [
        "The next line isn't super exciting, but we set the default value of our cumulative sum to be 0. So we're just defining resultSum and setting it equal to 0. If we don't do this we'll get an error."
      ]
    },
    {
      "cell_type": "code",
      "execution_count": null,
      "metadata": {
        "id": "flWvS-1SX-9q"
      },
      "outputs": [],
      "source": [
        "resultSum = 0"
      ]
    },
    {
      "cell_type": "markdown",
      "metadata": {
        "id": "_UChWfFZX-9q"
      },
      "source": [
        "Next we have a loop. There are different types of loops we can use. Here we use a `for` loop, which says \"iterate over each element in `range(mcPaths)`\". But wait...what's `range(mcPaths)`? `range` is a native python function that will return an iterator over a list of ints starting at 0 and going to x-1."
      ]
    },
    {
      "cell_type": "code",
      "execution_count": null,
      "metadata": {
        "id": "EYeoJmF3X-9q"
      },
      "outputs": [],
      "source": [
        "range10 = range( 10 )\n",
        "lst = list( range10 )\n",
        "print( lst )\n",
        "print( len( lst ) )"
      ]
    },
    {
      "cell_type": "markdown",
      "metadata": {
        "id": "NipzMiwbX-9q"
      },
      "source": [
        "In our case, we don't really want to do anything with `p`, so it is good practice to set it to `_`. We just want to iterate through the loop `mcPaths` times. In the default case, the function runs through the loop 100 times."
      ]
    },
    {
      "cell_type": "code",
      "execution_count": null,
      "metadata": {
        "id": "6MvmBmOdX-9q"
      },
      "outputs": [],
      "source": [
        "def straddlePricerMC( vol=0.2, time=1.0, mcPaths=100 ):\n",
        "    dailyVol = vol / np.sqrt( 252. )\n",
        "    resultSum = 0\n",
        "    for _ in range( mcPaths ):\n",
        "        resultSum += np.abs( np.prod( 1 + ( np.random.normal( 0, dailyVol, int( round( time * 252 ) ) ) ) ) - 1 )\n",
        "    return resultSum / mcPaths\n",
        "\n",
        "straddlePricerMC()"
      ]
    },
    {
      "cell_type": "markdown",
      "metadata": {
        "id": "VyqD_UscX-9q"
      },
      "source": [
        "To unpack what the function does at each iteration of the loop, let's unpack this one step at a time. We start with the innermost function call and work backwards from there. Let's ask for help to see what the `np.random.normal` method actually does. Thankfully, there are two handy ways to see a function's documentation.\n",
        "\n",
        "1. help\n",
        "2. ?"
      ]
    },
    {
      "cell_type": "code",
      "execution_count": null,
      "metadata": {
        "id": "tmoFvJgiX-9q"
      },
      "outputs": [],
      "source": [
        "help(np.random.normal)\n",
        "# np.random.normal?"
      ]
    },
    {
      "cell_type": "markdown",
      "metadata": {
        "id": "FyZ_ZjZxX-9q"
      },
      "source": [
        "Ok, so we know from the help function that the `np.random.normal` method takes three optional inputs: mean, standard deviation, and size of the array to generate multiple random numbers. It defaults to a distribution with a mean of zero and a standard deviation of 1, returning only 1 random number."
      ]
    },
    {
      "cell_type": "code",
      "execution_count": null,
      "metadata": {
        "id": "tDoO7GNFX-9r"
      },
      "outputs": [],
      "source": [
        "np.random.normal()"
      ]
    },
    {
      "cell_type": "markdown",
      "metadata": {
        "id": "9qtfLNurX-9r"
      },
      "source": [
        "Below we're going to call this method with a mean of zero (no drift) and a standard deviation of our daily vol, so that we can generate multiple days of returns. Specifically, we ask to generate the number of days to maturity."
      ]
    },
    {
      "cell_type": "code",
      "execution_count": null,
      "metadata": {
        "id": "dX5evuvdX-9r"
      },
      "outputs": [],
      "source": [
        "time = 1\n",
        "nDays = time * 252\n",
        "dailyVol = vol / np.sqrt( 252. )\n",
        "print( nDays )\n",
        "\n",
        "np.random.normal( 0, dailyVol, nDays )"
      ]
    },
    {
      "cell_type": "markdown",
      "metadata": {
        "id": "FBkY8yM_X-9r"
      },
      "source": [
        "Now, given we have an asset return timeseries, how much is a straddle worth? We're interested in the terminal value of the asset and because we assume the straddle is struck ATM, we can just take the absolute value of the asset's deviation from the initial value (in this case, 1)"
      ]
    },
    {
      "cell_type": "code",
      "execution_count": null,
      "metadata": {
        "id": "kFubnRW8X-9r"
      },
      "outputs": [],
      "source": [
        "np.random.seed( 42 ) # guarantee the same result from the two random series\n",
        "\n",
        "returns = np.random.normal( 0, dailyVol, time * 252 )\n",
        "priceAtMaturity = np.prod( 1 + returns )\n",
        "changeAtMaturity = priceAtMaturity - 1\n",
        "absChangeAtMaturity = np.abs( changeAtMaturity )\n",
        "print( absChangeAtMaturity )\n",
        "\n",
        "# all together in one line\n",
        "np.random.seed( 42 )\n",
        "print( np.abs( np.prod( 1 + ( np.random.normal( 0, dailyVol, time * 252 ) ) ) - 1 ) )"
      ]
    },
    {
      "cell_type": "markdown",
      "metadata": {
        "id": "US7ujzrVX-9r"
      },
      "source": [
        "Let's take a closer look at what we did above. This time, we're going to utilize another two libraries called pandas and perspective to make our life a little easier."
      ]
    },
    {
      "cell_type": "code",
      "execution_count": null,
      "metadata": {
        "id": "1fMGOJ8JX-9r"
      },
      "outputs": [],
      "source": [
        "import pandas as pd\n",
        "from perspective import psp\n",
        "\n",
        "simulatedAsset = pd.DataFrame( np.random.normal( 0, dailyVol, time * 252 ) + 1, columns=['return'] )\n",
        "simulatedAsset['price'] = ( 1 * simulatedAsset['return'] ).cumprod()\n",
        "psp( simulatedAsset )"
      ]
    },
    {
      "cell_type": "markdown",
      "metadata": {
        "id": "aWWCuPX2X-9r"
      },
      "source": [
        "The `for` loop ultimately just does the above for `mcPaths` number of times, and we ultimately take the average of the paths to find the expected value of the straddle."
      ]
    },
    {
      "cell_type": "code",
      "execution_count": null,
      "metadata": {
        "id": "J45Z9i3uX-9r"
      },
      "outputs": [],
      "source": [
        "mcPaths = 100\n",
        "resultSum = 0.\n",
        "for _ in range(mcPaths):\n",
        "    resultSum += np.abs( np.prod( 1 + np.random.normal( 0., dailyVol, time * 252 ) ) - 1 )\n",
        "print( resultSum / mcPaths )"
      ]
    },
    {
      "cell_type": "markdown",
      "metadata": {
        "id": "gbyKyY8-X-9r"
      },
      "source": [
        "This price is pretty close to the price from our original pricer. More paths should help get us even closer."
      ]
    },
    {
      "cell_type": "code",
      "execution_count": null,
      "metadata": {
        "id": "H9NNWRDgX-9r"
      },
      "outputs": [],
      "source": [
        "straddlePricerMC(mcPaths=2000)"
      ]
    },
    {
      "cell_type": "markdown",
      "metadata": {
        "id": "ZoCUfkUjX-9r"
      },
      "source": [
        "2000 paths is a lot, but it looks like we're still not converging to the original price. If we add more paths there is a tradeoff with compute time. Luckily, Jupyter has made it really easy to see how fast our function is."
      ]
    },
    {
      "cell_type": "code",
      "execution_count": null,
      "metadata": {
        "id": "tw_P_G80X-9r"
      },
      "outputs": [],
      "source": [
        "%timeit straddlePricerMC(mcPaths=2000)"
      ]
    },
    {
      "cell_type": "markdown",
      "metadata": {
        "id": "nmc1KALkX-9r"
      },
      "source": [
        "That's pretty fast. we can do a lot more paths."
      ]
    },
    {
      "cell_type": "code",
      "execution_count": null,
      "metadata": {
        "id": "uKuMo1CQX-9r"
      },
      "outputs": [],
      "source": [
        "print(f\"1 path: {straddlePricerMC(mcPaths=1)}\")\n",
        "print(f\"2000 path: {straddlePricerMC(mcPaths=2000)}\")\n",
        "print(f\"5000 path: {straddlePricerMC(mcPaths=5000)}\")\n",
        "print(f\"10000 path: {straddlePricerMC(mcPaths=10000)}\")\n",
        "print(f\"100000 path: {straddlePricerMC(mcPaths=100000)}\")\n",
        "print(f\"Closed form approximation: {straddlePricer()}\")"
      ]
    },
    {
      "cell_type": "markdown",
      "metadata": {
        "id": "mqwqK1JoX-9r"
      },
      "source": [
        "Can we improve the above MC implementation? Of course! We can generate our random asset series in one go. Remember the `size` argument of the `np.random.normal` function"
      ]
    },
    {
      "cell_type": "code",
      "execution_count": null,
      "metadata": {
        "id": "ArYGEsArX-9r"
      },
      "outputs": [],
      "source": [
        "nDays = time * 252\n",
        "size = (nDays, 15)\n",
        "simulatedAsset = pd.DataFrame(np.random.normal(0, dailyVol, size))\n",
        "simulatedAsset = (1 + simulatedAsset).cumprod()\n",
        "\n",
        "simulatedAsset.tail()"
      ]
    },
    {
      "cell_type": "markdown",
      "metadata": {
        "id": "o8BscMzWX-9r"
      },
      "source": [
        "Cool!...Let's visualize by plotting it with matplotlib."
      ]
    },
    {
      "cell_type": "code",
      "execution_count": null,
      "metadata": {
        "id": "ZEyxIu60X-9r"
      },
      "outputs": [],
      "source": [
        "%matplotlib inline\n",
        "import matplotlib.pyplot as plt\n",
        "\n",
        "plt.style.use('fivethirtyeight')\n",
        "\n",
        "fig = plt.figure(figsize=(8,6))\n",
        "ax = plt.axes()\n",
        "_ = ax.plot(simulatedAsset)"
      ]
    },
    {
      "cell_type": "markdown",
      "metadata": {
        "id": "FBDNxE3_X-9r"
      },
      "source": [
        "So let's incorporate that into a `pandas` version of the MC pricer."
      ]
    },
    {
      "cell_type": "code",
      "execution_count": null,
      "metadata": {
        "id": "zzrvgUdkX-9r"
      },
      "outputs": [],
      "source": [
        "def straddlePricerMCWithPD(vol=0.2, time=1, mcPaths=100000):\n",
        "    dailyVol = vol / ( 252 ** 0.5 )\n",
        "    randomPaths = pd.DataFrame( np.random.normal( 0, dailyVol, ( time*252, mcPaths ) ) )\n",
        "    price = ( ( 1 + randomPaths ).prod() - 1 ).abs().sum() / mcPaths\n",
        "    return price\n",
        "\n",
        "straddlePricerMCWithPD()"
      ]
    },
    {
      "cell_type": "code",
      "execution_count": null,
      "metadata": {
        "id": "CnsIjQ1yX-9r"
      },
      "outputs": [],
      "source": []
    }
  ],
  "metadata": {
    "kernelspec": {
      "display_name": "Python 3",
      "language": "python",
      "name": "python3"
    },
    "language_info": {
      "codemirror_mode": {
        "name": "ipython",
        "version": 3
      },
      "file_extension": ".py",
      "mimetype": "text/x-python",
      "name": "python",
      "nbconvert_exporter": "python",
      "pygments_lexer": "ipython3",
      "version": "3.7.3"
    },
    "colab": {
      "provenance": []
    }
  },
  "nbformat": 4,
  "nbformat_minor": 0
}